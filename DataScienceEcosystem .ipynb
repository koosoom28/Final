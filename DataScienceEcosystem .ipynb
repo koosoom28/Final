{
 "cells": [
  {
   "cell_type": "markdown",
   "id": "df9e08b9",
   "metadata": {},
   "source": [
    "<h1>Data Science Tools System</h1>"
   ]
  },
  {
   "cell_type": "markdown",
   "id": "d854cfe1",
   "metadata": {},
   "source": [
    "In this notebook, Data Science Tools and Ecosystem are summarized."
   ]
  },
  {
   "cell_type": "markdown",
   "id": "e4da43cc",
   "metadata": {},
   "source": [
    "<b>Objectives:</b>\n",
    "- List popular languages for Data Science\n",
    "- List commonly used libraries in Data Science\n",
    "- Create Markdown cell with a table\n"
   ]
  },
  {
   "cell_type": "markdown",
   "id": "69f58f7f",
   "metadata": {},
   "source": [
    "Some of the popular languages that Data Scientists use are:\n",
    "1. Python\n",
    "2. R\n",
    "3. SQL\n",
    "4. Java \n",
    "5. Javascript"
   ]
  },
  {
   "cell_type": "markdown",
   "id": "7bedb56a",
   "metadata": {},
   "source": [
    "Some of the commonly used libraries used by Data Scientists include:\n",
    "\n",
    "1.TensorFlow\n",
    "\n",
    "2.NumPy\n",
    "\n",
    "3.Pandas\n",
    "\n",
    "\n"
   ]
  },
  {
   "cell_type": "markdown",
   "id": "404a0bf7",
   "metadata": {},
   "source": [
    "|Data Science Tools|\n",
    "|:-:|\n",
    "|Apache Spark|\n",
    "|Apache Hadoop|\n",
    "|R Studio|"
   ]
  },
  {
   "cell_type": "markdown",
   "id": "a114420e",
   "metadata": {},
   "source": [
    "<h3>Below are a few examples of evaluating arithmetic expressions in Python</h3>"
   ]
  },
  {
   "cell_type": "code",
   "execution_count": 7,
   "id": "8d0705ad",
   "metadata": {},
   "outputs": [
    {
     "data": {
      "text/plain": [
       "17"
      ]
     },
     "execution_count": 7,
     "metadata": {},
     "output_type": "execute_result"
    }
   ],
   "source": [
    "# An example of arithmetic experssion\n",
    "(3*4)+5"
   ]
  },
  {
   "cell_type": "code",
   "execution_count": 8,
   "id": "4393caea",
   "metadata": {},
   "outputs": [
    {
     "data": {
      "text/plain": [
       "3.3333333333333335"
      ]
     },
     "execution_count": 8,
     "metadata": {},
     "output_type": "execute_result"
    }
   ],
   "source": [
    "# Below calculation converts minutes into hours \n",
    "tmin = 200\n",
    "h = tmin/60\n",
    "h\n",
    "\n"
   ]
  },
  {
   "cell_type": "markdown",
   "id": "fde7d5a4",
   "metadata": {},
   "source": [
    "<h2>Author</h2>\n",
    "Koosoom Jowahir"
   ]
  },
  {
   "cell_type": "code",
   "execution_count": null,
   "id": "fcd064f1",
   "metadata": {},
   "outputs": [],
   "source": []
  }
 ],
 "metadata": {
  "kernelspec": {
   "display_name": "Python 3 (ipykernel)",
   "language": "python",
   "name": "python3"
  },
  "language_info": {
   "codemirror_mode": {
    "name": "ipython",
    "version": 3
   },
   "file_extension": ".py",
   "mimetype": "text/x-python",
   "name": "python",
   "nbconvert_exporter": "python",
   "pygments_lexer": "ipython3",
   "version": "3.9.13"
  }
 },
 "nbformat": 4,
 "nbformat_minor": 5
}
